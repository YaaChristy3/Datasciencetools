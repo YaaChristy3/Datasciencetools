{
 "cells": [
  {
   "cell_type": "markdown",
   "id": "ecff07a6-0f7e-4d73-8c0b-689a212167bb",
   "metadata": {},
   "source": [
    "# Data Science Tools and Ecosystem"
   ]
  },
  {
   "cell_type": "markdown",
   "id": "1a1fada8-3ea7-4e68-bfcf-8c84b2be9029",
   "metadata": {},
   "source": [
    "In this notebook, Data Science Tools and Ecosystem are summarized"
   ]
  },
  {
   "cell_type": "markdown",
   "id": "f6994a96-1d9d-4981-bbcb-3b5f5be3955f",
   "metadata": {},
   "source": [
    "Some of the popular languages that Data Scientists use are:"
   ]
  },
  {
   "cell_type": "markdown",
   "id": "3faf054c-6623-4472-afab-9ca2a98360e7",
   "metadata": {},
   "source": [
    "1. Python\n",
    "2. R\n",
    "3. Julia\n",
    "4. c++\n",
    "5. SQL"
   ]
  },
  {
   "cell_type": "markdown",
   "id": "88018cd3-93b1-4f23-a1e0-5e7d02de4f6d",
   "metadata": {},
   "source": [
    "Some of the commonly used libraries used by Data Scientists include:"
   ]
  },
  {
   "cell_type": "markdown",
   "id": "35833401-f88c-4301-97fe-59bbd73bd3f4",
   "metadata": {},
   "source": [
    "1. Matplotlib\n",
    "2. Seaborn\n",
    "3. Keras\n",
    "4. PyTorch\n",
    "5. Pandas\n"
   ]
  },
  {
   "cell_type": "markdown",
   "id": "da550dda-6958-4d6f-b17b-2049d6e00977",
   "metadata": {},
   "source": [
    "| Data Science Tools |\n",
    "| ------------------ |\n",
    "| Jupyter |\n",
    "| RStudio |\n",
    "| Spyder  |"
   ]
  },
  {
   "cell_type": "markdown",
   "id": "c95ec7cb-07c0-4810-a7c0-381eff890937",
   "metadata": {},
   "source": [
    "### Below are a few examples of evaluating arithmetic expressions in Python"
   ]
  },
  {
   "cell_type": "code",
   "execution_count": 27,
   "id": "8e77fddc-965b-4d2d-9753-a8a3a141f4a9",
   "metadata": {},
   "outputs": [
    {
     "name": "stdout",
     "output_type": "stream",
     "text": [
      "17\n"
     ]
    }
   ],
   "source": [
    "#This a simple arithmetic expression to multiply then add integers\n",
    "\n",
    "(3*4)+5\n",
    "print ((3*4)+5)\n"
   ]
  },
  {
   "cell_type": "code",
   "execution_count": 29,
   "id": "c504a76e-d251-4b5f-a45c-cd069205eb32",
   "metadata": {},
   "outputs": [
    {
     "name": "stdout",
     "output_type": "stream",
     "text": [
      "3.3333333333333335\n"
     ]
    }
   ],
   "source": [
    "# This will convert 200 minutes to hours by dividing by 60\n",
    "\n",
    "minutes= 200\n",
    "hours=minutes / 60\n",
    "print(hours)"
   ]
  },
  {
   "cell_type": "markdown",
   "id": "3fab1863-f21f-4559-82cd-80a3d2785585",
   "metadata": {},
   "source": [
    "**Objectives:**\n",
    "+ Summary of Data Science Tools and Ecosystem\n",
    "+ List of popular languages for Data Science\n",
    "+ Some commonly used libraries used by Data Scientists\n",
    "+ Evaluating arithmetic expressions in Python"
   ]
  },
  {
   "cell_type": "markdown",
   "id": "e6cff054-33c8-4b67-a8ae-7694ebf35e29",
   "metadata": {},
   "source": [
    "## Author\n",
    "Christabel Paitoo"
   ]
  },
  {
   "cell_type": "code",
   "execution_count": null,
   "id": "de046f73-563b-4a60-b644-89453145ae46",
   "metadata": {},
   "outputs": [],
   "source": []
  }
 ],
 "metadata": {
  "kernelspec": {
   "display_name": "Python 3 (ipykernel)",
   "language": "python",
   "name": "python3"
  },
  "language_info": {
   "codemirror_mode": {
    "name": "ipython",
    "version": 3
   },
   "file_extension": ".py",
   "mimetype": "text/x-python",
   "name": "python",
   "nbconvert_exporter": "python",
   "pygments_lexer": "ipython3",
   "version": "3.11.7"
  }
 },
 "nbformat": 4,
 "nbformat_minor": 5
}
